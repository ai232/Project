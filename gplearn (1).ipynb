{
  "nbformat": 4,
  "nbformat_minor": 0,
  "metadata": {
    "colab": {
      "name": "gplearn.ipynb",
      "provenance": [],
      "collapsed_sections": []
    },
    "kernelspec": {
      "name": "python3",
      "display_name": "Python 3"
    },
    "language_info": {
      "name": "python"
    }
  },
  "cells": [
    {
      "cell_type": "code",
      "metadata": {
        "id": "E4kbtSC_7XCS",
        "colab": {
          "base_uri": "https://localhost:8080/"
        },
        "outputId": "fcd01055-febc-4b7b-8bb0-6d666d43fcef"
      },
      "source": [
        "!pip install gplearn"
      ],
      "execution_count": null,
      "outputs": [
        {
          "output_type": "stream",
          "text": [
            "Collecting gplearn\n",
            "  Downloading gplearn-0.4.1-py3-none-any.whl (41 kB)\n",
            "\u001b[?25l\r\u001b[K     |████████                        | 10 kB 19.2 MB/s eta 0:00:01\r\u001b[K     |███████████████▉                | 20 kB 19.8 MB/s eta 0:00:01\r\u001b[K     |███████████████████████▊        | 30 kB 15.5 MB/s eta 0:00:01\r\u001b[K     |███████████████████████████████▊| 40 kB 11.8 MB/s eta 0:00:01\r\u001b[K     |████████████████████████████████| 41 kB 151 kB/s \n",
            "\u001b[?25hRequirement already satisfied: scikit-learn>=0.20.0 in /usr/local/lib/python3.7/dist-packages (from gplearn) (0.22.2.post1)\n",
            "Requirement already satisfied: joblib>=0.13.0 in /usr/local/lib/python3.7/dist-packages (from gplearn) (1.0.1)\n",
            "Requirement already satisfied: scipy>=0.17.0 in /usr/local/lib/python3.7/dist-packages (from scikit-learn>=0.20.0->gplearn) (1.4.1)\n",
            "Requirement already satisfied: numpy>=1.11.0 in /usr/local/lib/python3.7/dist-packages (from scikit-learn>=0.20.0->gplearn) (1.19.5)\n",
            "Installing collected packages: gplearn\n",
            "Successfully installed gplearn-0.4.1\n"
          ],
          "name": "stdout"
        }
      ]
    },
    {
      "cell_type": "code",
      "metadata": {
        "id": "f6Pl6I7f5SwA"
      },
      "source": [
        "from gplearn.genetic import SymbolicRegressor\n",
        "from sklearn.ensemble import RandomForestRegressor\n",
        "from sklearn.tree import DecisionTreeRegressor\n",
        "from sklearn.utils.random import check_random_state\n",
        "from mpl_toolkits.mplot3d import Axes3D\n",
        "import matplotlib.pyplot as plt\n",
        "import numpy as np\n",
        "import pandas as pd\n",
        "from sklearn.model_selection import train_test_split\n",
        "import graphviz"
      ],
      "execution_count": null,
      "outputs": []
    },
    {
      "cell_type": "code",
      "metadata": {
        "colab": {
          "base_uri": "https://localhost:8080/"
        },
        "id": "KtVyIWrxmo3q",
        "outputId": "014b9512-0ea5-4aa0-b41a-d93865b988b5"
      },
      "source": [
        "from google.colab import drive\n",
        "drive.mount('/content/drive')"
      ],
      "execution_count": null,
      "outputs": [
        {
          "output_type": "stream",
          "text": [
            "Mounted at /content/drive\n"
          ],
          "name": "stdout"
        }
      ]
    },
    {
      "cell_type": "code",
      "metadata": {
        "id": "ORIXL5hmnJEV"
      },
      "source": [
        "path = \"/content/drive/MyDrive/avocado?\""
      ],
      "execution_count": null,
      "outputs": []
    },
    {
      "cell_type": "code",
      "metadata": {
        "id": "GROPDk6YnLBX"
      },
      "source": [
        "train_norm = pd.read_csv(f\"{path}/data/gri_train_normalized.txt\", sep=\" \", header = None, names=[\"g\", \"r\", \"i\", \"zred\"])\n",
        "sdss = pd.read_csv(f\"{path}/data/sdss_photz.txt\", sep=\" \", header = None, names=[\"u\", \"g\", \"r\", \"i\", \"z\", \"zred\"])\n",
        "sdss_colors = pd.read_csv(f\"{path}/data/sdss_colors.txt\", sep=\" \", header = None, names=[\"u-g\", \"g-r\", \"r-i\", \"i-z\", \"zred\"])\n",
        "sdss_photz_train_normalized = pd.read_csv(f\"{path}/data/sdss_photz_train_normalized.txt\", sep=\" \", header = None, names=[\"u\", \"g\", \"r\", \"i\", \"z\", \"zred\"])\n",
        "sdss_color_train = pd.read_csv(f\"{path}/data/sdss_color_train.txt\", sep=\" \", header = None, names=[\"u\", \"g\", \"r\", \"i\", \"z\", \"zred\"])"
      ],
      "execution_count": null,
      "outputs": []
    },
    {
      "cell_type": "code",
      "metadata": {
        "colab": {
          "base_uri": "https://localhost:8080/"
        },
        "id": "yDx_NDwNvxeU",
        "outputId": "0c41b61e-3da2-4de5-98d1-0a0cf3d66937"
      },
      "source": [
        "x_train = train_norm.drop(['zred'], axis=1)\n",
        "y_train = train_norm['zred']\n",
        "\n",
        "x_train.shape, y_train.shape"
      ],
      "execution_count": null,
      "outputs": [
        {
          "output_type": "execute_result",
          "data": {
            "text/plain": [
              "((2728, 3), (2728,))"
            ]
          },
          "metadata": {
            "tags": []
          },
          "execution_count": 6
        }
      ]
    },
    {
      "cell_type": "code",
      "metadata": {
        "colab": {
          "base_uri": "https://localhost:8080/"
        },
        "id": "KWPtK3eC3L84",
        "outputId": "6a3a8a1d-d1be-44b4-b191-3e8d4ad86ce9"
      },
      "source": [
        "x_sdss = sdss.drop(['zred'], axis=1)\n",
        "y_sdss = sdss['zred']\n",
        "\n",
        "x_sdss.shape, y_sdss.shape"
      ],
      "execution_count": null,
      "outputs": [
        {
          "output_type": "execute_result",
          "data": {
            "text/plain": [
              "((4072, 5), (4072,))"
            ]
          },
          "metadata": {
            "tags": []
          },
          "execution_count": 7
        }
      ]
    },
    {
      "cell_type": "code",
      "metadata": {
        "colab": {
          "base_uri": "https://localhost:8080/"
        },
        "id": "78EAhH1sbPbJ",
        "outputId": "f5fa100b-43ed-43bb-d90b-f00ce7170a92"
      },
      "source": [
        "x_colors = sdss_colors.drop(['zred'], axis=1)\n",
        "y_colors = sdss_colors['zred']\n",
        "\n",
        "x_colors.shape, y_colors.shape"
      ],
      "execution_count": null,
      "outputs": [
        {
          "output_type": "execute_result",
          "data": {
            "text/plain": [
              "((4072, 4), (4072,))"
            ]
          },
          "metadata": {
            "tags": []
          },
          "execution_count": 8
        }
      ]
    },
    {
      "cell_type": "code",
      "metadata": {
        "colab": {
          "base_uri": "https://localhost:8080/"
        },
        "id": "OqYxTN_BcuJr",
        "outputId": "4b00a1f9-01c2-48f7-ba45-8080fe732260"
      },
      "source": [
        "x_photz_train_n = sdss_photz_train_normalized.drop(['zred'], axis=1)\n",
        "y_photz_train_n = sdss_photz_train_normalized['zred']\n",
        "\n",
        "x_photz_train_n.shape, y_photz_train_n.shape"
      ],
      "execution_count": null,
      "outputs": [
        {
          "output_type": "execute_result",
          "data": {
            "text/plain": [
              "((2728, 5), (2728,))"
            ]
          },
          "metadata": {
            "tags": []
          },
          "execution_count": 9
        }
      ]
    },
    {
      "cell_type": "code",
      "metadata": {
        "colab": {
          "base_uri": "https://localhost:8080/"
        },
        "id": "UiOoxedTcvDG",
        "outputId": "f4edc558-0065-4ebd-d94e-f94c65fb4a00"
      },
      "source": [
        "x_color_train = sdss_color_train.drop(['zred'], axis=1)\n",
        "y_color_train = sdss_color_train['zred']\n",
        "\n",
        "x_color_train.shape, y_color_train.shape"
      ],
      "execution_count": null,
      "outputs": [
        {
          "output_type": "execute_result",
          "data": {
            "text/plain": [
              "((2728, 5), (2728,))"
            ]
          },
          "metadata": {
            "tags": []
          },
          "execution_count": 10
        }
      ]
    },
    {
      "cell_type": "markdown",
      "metadata": {
        "id": "zliPUFAa4RwF"
      },
      "source": [
        "#Using gplearn with **gri_train_normalized.txt** data\n",
        "\n"
      ]
    },
    {
      "cell_type": "code",
      "metadata": {
        "colab": {
          "base_uri": "https://localhost:8080/"
        },
        "id": "4RwayzPOwACc",
        "outputId": "48cd76cc-f3db-4a28-ad21-05b31b074679"
      },
      "source": [
        "gp_norm = SymbolicRegressor(random_state=0)\n",
        "gp_norm.fit(x_train, y_train)"
      ],
      "execution_count": null,
      "outputs": [
        {
          "output_type": "execute_result",
          "data": {
            "text/plain": [
              "SymbolicRegressor(const_range=(-1.0, 1.0), feature_names=None,\n",
              "                  function_set=('add', 'sub', 'mul', 'div'), generations=20,\n",
              "                  init_depth=(2, 6), init_method='half and half',\n",
              "                  low_memory=False, max_samples=1.0,\n",
              "                  metric='mean absolute error', n_jobs=1, p_crossover=0.9,\n",
              "                  p_hoist_mutation=0.01, p_point_mutation=0.01,\n",
              "                  p_point_replace=0.05, p_subtree_mutation=0.01,\n",
              "                  parsimony_coefficient=0.001, population_size=1000,\n",
              "                  random_state=0, stopping_criteria=0.0, tournament_size=20,\n",
              "                  verbose=0, warm_start=False)"
            ]
          },
          "metadata": {
            "tags": []
          },
          "execution_count": 11
        }
      ]
    },
    {
      "cell_type": "code",
      "metadata": {
        "colab": {
          "base_uri": "https://localhost:8080/"
        },
        "id": "rELMY8-7w17_",
        "outputId": "6d6adc06-0190-4840-9d60-1b944ed6f812"
      },
      "source": [
        "print(gp_norm._program)\n",
        "score_gp = gp_norm.score(x_train, y_train)\n",
        "print('R2:', score_gp)"
      ],
      "execution_count": null,
      "outputs": [
        {
          "output_type": "stream",
          "text": [
            "mul(mul(0.671, 0.700), sub(sub(sub(X1, -0.938), mul(X2, 0.554)), 0.074))\n",
            "R2: 0.8504845419034952\n"
          ],
          "name": "stdout"
        }
      ]
    },
    {
      "cell_type": "code",
      "metadata": {
        "id": "YEFnJvH-vInH"
      },
      "source": [
        "converter = {\n",
        "    'add': lambda x, y : x + y,\n",
        "    'sub': lambda x, y : x - y,\n",
        "    'mul': lambda x, y : x*y,\n",
        "    'div': lambda x, y : x/y,\n",
        "    'sqrt': lambda x : x**0.5,\n",
        "    'log': lambda x : log(x),\n",
        "    'abs': lambda x : abs(x),\n",
        "    'neg': lambda x : -x,\n",
        "    'inv': lambda x : 1/x,\n",
        "    'max': lambda x, y : max(x, y),\n",
        "    'min': lambda x, y : min(x, y),\n",
        "    'sin': lambda x : sin(x),\n",
        "    'cos': lambda x : cos(x),\n",
        "    'pow': lambda x, y : x**y,\n",
        "}"
      ],
      "execution_count": null,
      "outputs": []
    },
    {
      "cell_type": "code",
      "metadata": {
        "colab": {
          "base_uri": "https://localhost:8080/",
          "height": 37
        },
        "id": "ZgI_s1Q7xl9M",
        "outputId": "ca4806d7-43e3-4c53-bc46-d9416aa4b153"
      },
      "source": [
        "from sympy import *\n",
        "next_e = sympify(str(gp_norm._program), locals=converter)\n",
        "next_e"
      ],
      "execution_count": null,
      "outputs": [
        {
          "output_type": "execute_result",
          "data": {
            "text/latex": "$\\displaystyle 0.4697 X_{1} - 0.2602138 X_{2} + 0.4058208$",
            "text/plain": [
              "0.4697*X1 - 0.2602138*X2 + 0.4058208"
            ]
          },
          "metadata": {
            "tags": []
          },
          "execution_count": 14
        }
      ]
    },
    {
      "cell_type": "markdown",
      "metadata": {
        "id": "nFDJ8dlH4fy4"
      },
      "source": [
        "#Using gplearn with **sdss_photz.txt** data"
      ]
    },
    {
      "cell_type": "code",
      "metadata": {
        "colab": {
          "base_uri": "https://localhost:8080/"
        },
        "id": "GLZpRR_JzA0R",
        "outputId": "1dac96dd-651f-45b9-a7c9-eac2c26356c9"
      },
      "source": [
        "gp_sdss = SymbolicRegressor(function_set=('add', 'sub', 'mul', 'div', \n",
        "                                                   'sqrt', 'log', 'abs', 'neg', \n",
        "                                                   'inv', 'max', 'min', 'sin', 'cos', 'tan'), random_state=0)\n",
        "gp_sdss.fit(x_sdss, y_sdss)"
      ],
      "execution_count": null,
      "outputs": [
        {
          "output_type": "execute_result",
          "data": {
            "text/plain": [
              "SymbolicRegressor(const_range=(-1.0, 1.0), feature_names=None,\n",
              "                  function_set=('add', 'sub', 'mul', 'div', 'sqrt', 'log',\n",
              "                                'abs', 'neg', 'inv', 'max', 'min', 'sin', 'cos',\n",
              "                                'tan'),\n",
              "                  generations=20, init_depth=(2, 6),\n",
              "                  init_method='half and half', low_memory=False,\n",
              "                  max_samples=1.0, metric='mean absolute error', n_jobs=1,\n",
              "                  p_crossover=0.9, p_hoist_mutation=0.01, p_point_mutation=0.01,\n",
              "                  p_point_replace=0.05, p_subtree_mutation=0.01,\n",
              "                  parsimony_coefficient=0.001, population_size=1000,\n",
              "                  random_state=0, stopping_criteria=0.0, tournament_size=20,\n",
              "                  verbose=0, warm_start=False)"
            ]
          },
          "metadata": {
            "tags": []
          },
          "execution_count": 21
        }
      ]
    },
    {
      "cell_type": "code",
      "metadata": {
        "colab": {
          "base_uri": "https://localhost:8080/"
        },
        "id": "HUVDp0pZ3r76",
        "outputId": "99c5ce5f-be20-486f-f292-e93916403126"
      },
      "source": [
        "print(gp_sdss._program)\n",
        "score_gp_sdss = gp_sdss.score(x_sdss, y_sdss)"
      ],
      "execution_count": null,
      "outputs": [
        {
          "output_type": "stream",
          "text": [
            "cos(sqrt(add(mul(0.426, X3), X3)))\n"
          ],
          "name": "stdout"
        }
      ]
    },
    {
      "cell_type": "code",
      "metadata": {
        "colab": {
          "base_uri": "https://localhost:8080/",
          "height": 38
        },
        "id": "06VWAX8p3-Jh",
        "outputId": "97554f2a-93fd-4b11-c2d9-bb76024d5ee7"
      },
      "source": [
        "from sympy import *\n",
        "next_sdss = sympify(str(gp_sdss._program), locals=converter)\n",
        "next_sdss"
      ],
      "execution_count": null,
      "outputs": [
        {
          "output_type": "execute_result",
          "data": {
            "text/latex": "$\\displaystyle \\cos{\\left(1.19415241908225 X_{3}^{0.5} \\right)}$",
            "text/plain": [
              "cos(1.19415241908225*X3**0.5)"
            ]
          },
          "metadata": {
            "tags": []
          },
          "execution_count": 24
        }
      ]
    },
    {
      "cell_type": "markdown",
      "metadata": {
        "id": "JqVm-BZtA3mR"
      },
      "source": [
        "#Using gplearn with **sdss_colors.txt** data\n",
        "\n",
        "\n"
      ]
    },
    {
      "cell_type": "code",
      "metadata": {
        "colab": {
          "base_uri": "https://localhost:8080/"
        },
        "id": "8N6WAsxq4teP",
        "outputId": "c85a2a15-07a3-4b5a-8723-43a4b2a8485a"
      },
      "source": [
        "gp_colors = SymbolicRegressor(random_state=0)\n",
        "gp_colors.fit(x_colors, y_colors)"
      ],
      "execution_count": null,
      "outputs": [
        {
          "output_type": "execute_result",
          "data": {
            "text/plain": [
              "SymbolicRegressor(const_range=(-1.0, 1.0), feature_names=None,\n",
              "                  function_set=('add', 'sub', 'mul', 'div'), generations=20,\n",
              "                  init_depth=(2, 6), init_method='half and half',\n",
              "                  low_memory=False, max_samples=1.0,\n",
              "                  metric='mean absolute error', n_jobs=1, p_crossover=0.9,\n",
              "                  p_hoist_mutation=0.01, p_point_mutation=0.01,\n",
              "                  p_point_replace=0.05, p_subtree_mutation=0.01,\n",
              "                  parsimony_coefficient=0.001, population_size=1000,\n",
              "                  random_state=0, stopping_criteria=0.0, tournament_size=20,\n",
              "                  verbose=0, warm_start=False)"
            ]
          },
          "metadata": {
            "tags": []
          },
          "execution_count": 18
        }
      ]
    },
    {
      "cell_type": "code",
      "metadata": {
        "colab": {
          "base_uri": "https://localhost:8080/"
        },
        "id": "6ktZ9_4DeABi",
        "outputId": "14c53993-3eef-40b2-87fa-eea2d0edec6f"
      },
      "source": [
        "print(gp_colors._program)\n",
        "score_gp_c = gp_colors.score(x_colors, y_colors)\n",
        "print('R2:', score_gp_c)"
      ],
      "execution_count": null,
      "outputs": [
        {
          "output_type": "stream",
          "text": [
            "mul(sub(div(div(X3, X3), div(add(X1, X2), X3)), X2), -0.693)\n",
            "R2: 0.5389975346578862\n"
          ],
          "name": "stdout"
        }
      ]
    },
    {
      "cell_type": "code",
      "metadata": {
        "colab": {
          "base_uri": "https://localhost:8080/",
          "height": 54
        },
        "id": "XCeGVQPweCwH",
        "outputId": "e31ec46a-ad46-4ed8-b0e4-06d59e4ec85c"
      },
      "source": [
        "next_colors = sympify(str(gp_colors._program), locals=converter)\n",
        "next_colors"
      ],
      "execution_count": null,
      "outputs": [
        {
          "output_type": "execute_result",
          "data": {
            "text/latex": "$\\displaystyle 0.693 X_{2} - \\frac{0.693 X_{3}}{X_{1} + X_{2}}$",
            "text/plain": [
              "0.693*X2 - 0.693*X3/(X1 + X2)"
            ]
          },
          "metadata": {
            "tags": []
          },
          "execution_count": 20
        }
      ]
    },
    {
      "cell_type": "markdown",
      "metadata": {
        "id": "BW4l782QA9AU"
      },
      "source": [
        "#Using gplearn with **sdss_photz_train_normalized.txt** data"
      ]
    },
    {
      "cell_type": "code",
      "metadata": {
        "colab": {
          "base_uri": "https://localhost:8080/"
        },
        "id": "ogVwcFhNVPFq",
        "outputId": "b5a56b38-73a8-4ca4-8df2-f03929e3d387"
      },
      "source": [
        "gp_photz_train_n = SymbolicRegressor(random_state=0)\n",
        "gp_photz_train_n.fit(x_photz_train_n, y_photz_train_n)"
      ],
      "execution_count": null,
      "outputs": [
        {
          "output_type": "execute_result",
          "data": {
            "text/plain": [
              "SymbolicRegressor(const_range=(-1.0, 1.0), feature_names=None,\n",
              "                  function_set=('add', 'sub', 'mul', 'div'), generations=20,\n",
              "                  init_depth=(2, 6), init_method='half and half',\n",
              "                  low_memory=False, max_samples=1.0,\n",
              "                  metric='mean absolute error', n_jobs=1, p_crossover=0.9,\n",
              "                  p_hoist_mutation=0.01, p_point_mutation=0.01,\n",
              "                  p_point_replace=0.05, p_subtree_mutation=0.01,\n",
              "                  parsimony_coefficient=0.001, population_size=1000,\n",
              "                  random_state=0, stopping_criteria=0.0, tournament_size=20,\n",
              "                  verbose=0, warm_start=False)"
            ]
          },
          "metadata": {
            "tags": []
          },
          "execution_count": 24
        }
      ]
    },
    {
      "cell_type": "code",
      "metadata": {
        "colab": {
          "base_uri": "https://localhost:8080/"
        },
        "id": "zBDfkcfne_Z8",
        "outputId": "c9dcb347-9704-4250-d25e-12a49d84ba6d"
      },
      "source": [
        "print(gp_photz_train_n._program)\n",
        "score_gp_ptn = gp_photz_train_n.score(x_photz_train_n, y_photz_train_n)\n",
        "print('R2:', score_gp_ptn)"
      ],
      "execution_count": null,
      "outputs": [
        {
          "output_type": "stream",
          "text": [
            "sub(sub(X2, -0.247), sub(X2, mul(sub(sub(X2, -0.247), sub(X2, mul(0.090, sub(X2, mul(sub(sub(X2, -0.247), sub(X2, mul(0.090, X2))), sub(X2, -0.247)))))), sub(X2, -0.247))))\n",
            "R2: 0.7894709241522226\n"
          ],
          "name": "stdout"
        }
      ]
    },
    {
      "cell_type": "code",
      "metadata": {
        "colab": {
          "base_uri": "https://localhost:8080/",
          "height": 38
        },
        "id": "3BXmd03ffB2J",
        "outputId": "5aeef916-a47b-4323-95d5-6a89bfe36e68"
      },
      "source": [
        "next_ptn = sympify(str(gp_photz_train_n._program), locals=converter)\n",
        "next_ptn"
      ],
      "execution_count": null,
      "outputs": [
        {
          "output_type": "execute_result",
          "data": {
            "text/latex": "$\\displaystyle \\left(X_{2} + 0.247\\right) \\left(0.09 X_{2} - 0.09 \\left(0.09 X_{2} + 0.247\\right) \\left(X_{2} + 0.247\\right) + 0.247\\right) + 0.247$",
            "text/plain": [
              "(X2 + 0.247)*(0.09*X2 - 0.09*(0.09*X2 + 0.247)*(X2 + 0.247) + 0.247) + 0.247"
            ]
          },
          "metadata": {
            "tags": []
          },
          "execution_count": 26
        }
      ]
    },
    {
      "cell_type": "markdown",
      "metadata": {
        "id": "dbuQ37QoVKWL"
      },
      "source": [
        "#Using gplearn with **sdss_color_train.txt** data"
      ]
    },
    {
      "cell_type": "code",
      "metadata": {
        "colab": {
          "base_uri": "https://localhost:8080/"
        },
        "id": "ibMsvmjzVQNF",
        "outputId": "b8b7fc95-4403-44f9-b4a4-e7551439323a"
      },
      "source": [
        "gp_color_train = SymbolicRegressor(random_state=0)\n",
        "gp_color_train.fit(x_color_train, y_color_train)"
      ],
      "execution_count": null,
      "outputs": [
        {
          "output_type": "execute_result",
          "data": {
            "text/plain": [
              "SymbolicRegressor(const_range=(-1.0, 1.0), feature_names=None,\n",
              "                  function_set=('add', 'sub', 'mul', 'div'), generations=20,\n",
              "                  init_depth=(2, 6), init_method='half and half',\n",
              "                  low_memory=False, max_samples=1.0,\n",
              "                  metric='mean absolute error', n_jobs=1, p_crossover=0.9,\n",
              "                  p_hoist_mutation=0.01, p_point_mutation=0.01,\n",
              "                  p_point_replace=0.05, p_subtree_mutation=0.01,\n",
              "                  parsimony_coefficient=0.001, population_size=1000,\n",
              "                  random_state=0, stopping_criteria=0.0, tournament_size=20,\n",
              "                  verbose=0, warm_start=False)"
            ]
          },
          "metadata": {
            "tags": []
          },
          "execution_count": 27
        }
      ]
    },
    {
      "cell_type": "code",
      "metadata": {
        "colab": {
          "base_uri": "https://localhost:8080/"
        },
        "id": "djomUHF5fioq",
        "outputId": "95b4556a-fd22-4676-e98c-32564fd23135"
      },
      "source": [
        "print(gp_color_train._program)\n",
        "score_gp_ct = gp_color_train.score(x_color_train, y_color_train)\n",
        "print('R2:', score_gp_ct)"
      ],
      "execution_count": null,
      "outputs": [
        {
          "output_type": "stream",
          "text": [
            "mul(sub(X3, X2), -0.560)\n",
            "R2: 0.6212252870497356\n"
          ],
          "name": "stdout"
        }
      ]
    },
    {
      "cell_type": "code",
      "metadata": {
        "colab": {
          "base_uri": "https://localhost:8080/",
          "height": 38
        },
        "id": "5xtL1JtafkZI",
        "outputId": "9cf63a45-21c6-429b-bd89-47a80acb1196"
      },
      "source": [
        "next_ct = sympify(str(gp_color_train._program), locals=converter)\n",
        "next_ct"
      ],
      "execution_count": null,
      "outputs": [
        {
          "output_type": "execute_result",
          "data": {
            "text/latex": "$\\displaystyle 0.56 X_{2} - 0.56 X_{3}$",
            "text/plain": [
              "0.56*X2 - 0.56*X3"
            ]
          },
          "metadata": {
            "tags": []
          },
          "execution_count": 29
        }
      ]
    }
  ]
}